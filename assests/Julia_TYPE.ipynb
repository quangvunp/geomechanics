{
 "cells": [
  {
   "cell_type": "markdown",
   "metadata": {},
   "source": [
    "# TYPE IN JULIA\n",
    "\n",
    "**Julia support many kinds of data**\n",
    "- 1234, 3.1416, \"hello\", [1, 2, 4, 5]\n",
    "- (1 => ”one”, 2 => “two”)\n",
    "\n",
    "**Each is an object, each object has:**\n",
    "- a type\n",
    "- an internal data representation\n",
    "- a set of procedure for interation with the object\n",
    "\n",
    "**An object is an instance of a type**\n",
    "- 1234 is an instance of *Int64*\n",
    "- \"abs\" is an instance of *String*"
   ]
  },
  {
   "cell_type": "markdown",
   "metadata": {},
   "source": [
    "# OPERATION ON TYPE"
   ]
  },
  {
   "cell_type": "code",
   "execution_count": 1,
   "metadata": {},
   "outputs": [
    {
     "data": {
      "text/plain": [
       "true"
      ]
     },
     "execution_count": 1,
     "metadata": {},
     "output_type": "execute_result"
    }
   ],
   "source": [
    "# \"isa\" function tests if an object is of a given type and returns true or false\n",
    "isa(1, Int)"
   ]
  },
  {
   "cell_type": "code",
   "execution_count": 2,
   "metadata": {},
   "outputs": [
    {
     "data": {
      "text/plain": [
       "false"
      ]
     },
     "execution_count": 2,
     "metadata": {},
     "output_type": "execute_result"
    }
   ],
   "source": [
    "isa(1, AbstractFloat)"
   ]
  },
  {
   "cell_type": "code",
   "execution_count": 3,
   "metadata": {},
   "outputs": [
    {
     "data": {
      "text/plain": [
       "Float64"
      ]
     },
     "execution_count": 3,
     "metadata": {},
     "output_type": "execute_result"
    }
   ],
   "source": [
    "typeof(12.0)"
   ]
  },
  {
   "cell_type": "code",
   "execution_count": 4,
   "metadata": {},
   "outputs": [
    {
     "data": {
      "text/plain": [
       "AbstractFloat"
      ]
     },
     "execution_count": 4,
     "metadata": {},
     "output_type": "execute_result"
    }
   ],
   "source": [
    "supertype(Float64)"
   ]
  },
  {
   "cell_type": "code",
   "execution_count": 5,
   "metadata": {},
   "outputs": [
    {
     "data": {
      "text/plain": [
       "Signed"
      ]
     },
     "execution_count": 5,
     "metadata": {},
     "output_type": "execute_result"
    }
   ],
   "source": [
    "supertype(Int8)"
   ]
  },
  {
   "cell_type": "code",
   "execution_count": 6,
   "metadata": {},
   "outputs": [
    {
     "data": {
      "text/plain": [
       "Integer"
      ]
     },
     "execution_count": 6,
     "metadata": {},
     "output_type": "execute_result"
    }
   ],
   "source": [
    "supertype(ans)"
   ]
  },
  {
   "cell_type": "code",
   "execution_count": 7,
   "metadata": {},
   "outputs": [
    {
     "data": {
      "text/plain": [
       "4-element Array{Union{DataType, UnionAll},1}:\n",
       " AbstractFloat\n",
       " Integer      \n",
       " Irrational   \n",
       " Rational     "
      ]
     },
     "execution_count": 7,
     "metadata": {},
     "output_type": "execute_result"
    }
   ],
   "source": [
    "subtypes(Real)"
   ]
  },
  {
   "cell_type": "markdown",
   "metadata": {},
   "source": [
    "# CREATING AND USING YOUR OWN TYPES\n",
    "Make a distinction between creating a class and using an instance of the class \n",
    "\n",
    "**Creating a type involves**\n",
    "  * Defining the type name\n",
    "  * Defining the type attributes\n",
    "  * For example: someone wrote code to implement list\n",
    "\n",
    "**Using a type involes:**\n",
    "  * Creating new instances of objects\n",
    "  * Doing operations on instances\n",
    "  * For example: L = [1, 2], and len(L)"
   ]
  },
  {
   "cell_type": "markdown",
   "metadata": {},
   "source": [
    "# COMPOSITE TYPES"
   ]
  },
  {
   "cell_type": "markdown",
   "metadata": {},
   "source": [
    "Composite types is a collection of named fields. They are user-defined type in Julia. There are two composite types: mutable one (*mutable struct*) and immutable one (*immutable struct*)\n",
    "\n",
    "**Type declaration:**\n",
    "\n",
    "Immutable composite types are introduced with the \"struct\" keyword followed by a block of field names"
   ]
  },
  {
   "cell_type": "markdown",
   "metadata": {},
   "source": [
    "## 1- First example of type in JULIA: Point2D"
   ]
  },
  {
   "cell_type": "code",
   "execution_count": 8,
   "metadata": {},
   "outputs": [],
   "source": [
    "# Name of type: Point2D\n",
    "# Atributes of type Vector2D: x, y (coordinaes)\n",
    "\n",
    "struct Point2D\n",
    "    x::Float64\n",
    "    y::Float64\n",
    "end"
   ]
  },
  {
   "cell_type": "markdown",
   "metadata": {},
   "source": [
    "Data attributes: \n",
    "- Think of data as other objects that make up the type\n",
    "- For example, Point2D is made up of 2 numbers"
   ]
  },
  {
   "cell_type": "markdown",
   "metadata": {},
   "source": [
    "**1.1 Create an object of type Point2D:**\n",
    "By applying the \"Point2D\" type object like a function to values for its fields: "
   ]
  },
  {
   "cell_type": "code",
   "execution_count": 9,
   "metadata": {},
   "outputs": [
    {
     "data": {
      "text/plain": [
       "Point2D(2.0, 5.0)"
      ]
     },
     "execution_count": 9,
     "metadata": {},
     "output_type": "execute_result"
    }
   ],
   "source": [
    "P = Point2D(2.0, 5.0)"
   ]
  },
  {
   "cell_type": "code",
   "execution_count": 10,
   "metadata": {},
   "outputs": [
    {
     "data": {
      "text/plain": [
       "Point2D(3.0, 5.0)"
      ]
     },
     "execution_count": 10,
     "metadata": {},
     "output_type": "execute_result"
    }
   ],
   "source": [
    "Q = Point2D(3.0, 5.0)"
   ]
  },
  {
   "cell_type": "markdown",
   "metadata": {},
   "source": [
    "You may find a list of field names using the \"fieldnames\" function"
   ]
  },
  {
   "cell_type": "code",
   "execution_count": 11,
   "metadata": {},
   "outputs": [
    {
     "data": {
      "text/plain": [
       "2-element Array{Symbol,1}:\n",
       " :x\n",
       " :y"
      ]
     },
     "execution_count": 11,
     "metadata": {},
     "output_type": "execute_result"
    }
   ],
   "source": [
    "fieldnames(Q)"
   ]
  },
  {
   "cell_type": "markdown",
   "metadata": {},
   "source": [
    "**1.2 Access atribute of a type**"
   ]
  },
  {
   "cell_type": "code",
   "execution_count": 12,
   "metadata": {},
   "outputs": [
    {
     "name": "stdout",
     "output_type": "stream",
     "text": [
      "P.x = 2.0\n",
      "P.y = 5.0\n"
     ]
    },
    {
     "data": {
      "text/plain": [
       "5.0"
      ]
     },
     "execution_count": 12,
     "metadata": {},
     "output_type": "execute_result"
    }
   ],
   "source": [
    "# x coordinate of Point P\n",
    "@show P.x\n",
    "# y coordinate of Point P\n",
    "@show P.y"
   ]
  },
  {
   "cell_type": "markdown",
   "metadata": {},
   "source": [
    "Method: a special function (take params, do operations, return) that work with a specific type"
   ]
  },
  {
   "cell_type": "markdown",
   "metadata": {},
   "source": [
    "In Julia, all vallues are objects, but functions are not bundled with the objects they operate on.\n",
    "This is necessary since Julia chooses which method of a function to use by multiple dispatch, meaning that the types of all of a function's arguments are considered when selecting a method. Organizing methods into function objects rather than having named bags of methods \"inside\" each object ends up being a highly beneficial aspect of the language design"
   ]
  },
  {
   "cell_type": "code",
   "execution_count": 13,
   "metadata": {},
   "outputs": [
    {
     "name": "stdout",
     "output_type": "stream",
     "text": [
      "f1(2) = 2\n",
      "f1(2.0) = 3.0\n"
     ]
    },
    {
     "data": {
      "text/plain": [
       "3.0"
      ]
     },
     "execution_count": 13,
     "metadata": {},
     "output_type": "execute_result"
    }
   ],
   "source": [
    "# Example:\n",
    "function f1(x::Int64)\n",
    "    return x\n",
    "end\n",
    "\n",
    "function f1(x::Float64)\n",
    "    return x + 1\n",
    "end\n",
    "\n",
    "@show f1(2)\n",
    "@show f1(2.0)"
   ]
  },
  {
   "cell_type": "markdown",
   "metadata": {},
   "source": [
    "**1.3 How to calculate distance from Point P to point Q?**"
   ]
  },
  {
   "cell_type": "code",
   "execution_count": 14,
   "metadata": {},
   "outputs": [
    {
     "data": {
      "text/plain": [
       "distance (generic function with 1 method)"
      ]
     },
     "execution_count": 14,
     "metadata": {},
     "output_type": "execute_result"
    }
   ],
   "source": [
    "function distance(P::Point2D, Q::Point2D)\n",
    "    return √((P.x - Q.x)^2 + (P.y - Q.y)^2)\n",
    "end"
   ]
  },
  {
   "cell_type": "code",
   "execution_count": 15,
   "metadata": {},
   "outputs": [
    {
     "name": "stdout",
     "output_type": "stream",
     "text": [
      "distance(P, Q) = 1.0\n"
     ]
    },
    {
     "data": {
      "text/plain": [
       "1.0"
      ]
     },
     "execution_count": 15,
     "metadata": {},
     "output_type": "execute_result"
    }
   ],
   "source": [
    "@show distance(P, Q)"
   ]
  },
  {
   "cell_type": "markdown",
   "metadata": {},
   "source": [
    "**1.4 How to calculate the summation, substraction of 2 vector P and Q?**"
   ]
  },
  {
   "cell_type": "code",
   "execution_count": 16,
   "metadata": {},
   "outputs": [
    {
     "ename": "LoadError",
     "evalue": "\u001b[91mMethodError: no method matching +(::Point2D, ::Point2D)\u001b[0m\nClosest candidates are:\n  +(::Any, ::Any, \u001b[91m::Any\u001b[39m, \u001b[91m::Any...\u001b[39m) at operators.jl:424\u001b[39m",
     "output_type": "error",
     "traceback": [
      "\u001b[91mMethodError: no method matching +(::Point2D, ::Point2D)\u001b[0m\nClosest candidates are:\n  +(::Any, ::Any, \u001b[91m::Any\u001b[39m, \u001b[91m::Any...\u001b[39m) at operators.jl:424\u001b[39m",
      ""
     ]
    }
   ],
   "source": [
    "# P + Q = ?\n",
    "@show P + Q"
   ]
  },
  {
   "cell_type": "code",
   "execution_count": 17,
   "metadata": {},
   "outputs": [
    {
     "data": {
      "text/html": [
       "+(x::<b>Float64</b>, y::<b>Float64</b>) at <a href=\"https://github.com/JuliaLang/julia/tree/d386e40c17d43b79fc89d3e579fc04547241787c/base/float.jl#L375\" target=\"_blank\">float.jl:375</a>"
      ],
      "text/plain": [
       "+(x::Float64, y::Float64) in Base at float.jl:375"
      ]
     },
     "execution_count": 17,
     "metadata": {},
     "output_type": "execute_result"
    }
   ],
   "source": [
    "@which 1.0 + 1.0"
   ]
  },
  {
   "cell_type": "markdown",
   "metadata": {},
   "source": [
    "## SPECIAL OPERATOR: \n",
    "- Special operator: +, - , ==, * , /, ....\n",
    "- we can override these to work with our type\n",
    "\n",
    "**1.5 Create the calculation of sum of 2 Poin2D**"
   ]
  },
  {
   "cell_type": "code",
   "execution_count": 18,
   "metadata": {},
   "outputs": [
    {
     "data": {
      "text/plain": [
       "+ (generic function with 181 methods)"
      ]
     },
     "execution_count": 18,
     "metadata": {},
     "output_type": "execute_result"
    }
   ],
   "source": [
    "import Base.+\n",
    "function +(A::Point2D, B::Point2D)\n",
    "    return Point2D(A.x + B.x, A.y + B.y)\n",
    "end"
   ]
  },
  {
   "cell_type": "code",
   "execution_count": 19,
   "metadata": {},
   "outputs": [
    {
     "data": {
      "text/plain": [
       "Point2D(5.0, 10.0)"
      ]
     },
     "execution_count": 19,
     "metadata": {},
     "output_type": "execute_result"
    }
   ],
   "source": [
    "P + Q"
   ]
  },
  {
   "cell_type": "code",
   "execution_count": 20,
   "metadata": {},
   "outputs": [
    {
     "data": {
      "text/plain": [
       "+ (generic function with 181 methods)"
      ]
     },
     "execution_count": 20,
     "metadata": {},
     "output_type": "execute_result"
    }
   ],
   "source": [
    "# We can also write in this compact form:\n",
    "+(A::Point2D, B::Point2D) = Point2D(A.x + B.x, A.y + B.y)"
   ]
  },
  {
   "cell_type": "code",
   "execution_count": 21,
   "metadata": {},
   "outputs": [
    {
     "data": {
      "text/plain": [
       "- (generic function with 195 methods)"
      ]
     },
     "execution_count": 21,
     "metadata": {},
     "output_type": "execute_result"
    }
   ],
   "source": [
    "# Similarly, we can create a substraction of two vector:\n",
    "import Base.-\n",
    "-(A::Point2D, B::Point2D) = Point2D(A.x - B.x, A.y - B.y)"
   ]
  },
  {
   "cell_type": "code",
   "execution_count": 22,
   "metadata": {},
   "outputs": [
    {
     "data": {
      "text/plain": [
       "Point2D(-1.0, 0.0)"
      ]
     },
     "execution_count": 22,
     "metadata": {},
     "output_type": "execute_result"
    }
   ],
   "source": [
    "P - Q"
   ]
  },
  {
   "cell_type": "code",
   "execution_count": 23,
   "metadata": {},
   "outputs": [
    {
     "data": {
      "text/plain": [
       "false"
      ]
     },
     "execution_count": 23,
     "metadata": {},
     "output_type": "execute_result"
    }
   ],
   "source": [
    "# How to compare 2 Vector?\n",
    "P == Q"
   ]
  },
  {
   "cell_type": "code",
   "execution_count": 24,
   "metadata": {},
   "outputs": [
    {
     "data": {
      "text/plain": [
       "true"
      ]
     },
     "execution_count": 24,
     "metadata": {},
     "output_type": "execute_result"
    }
   ],
   "source": [
    "1 == 1"
   ]
  },
  {
   "cell_type": "code",
   "execution_count": 25,
   "metadata": {},
   "outputs": [
    {
     "data": {
      "text/html": [
       "==<i>{T<:Number}</i>(x::<b>T</b>, y::<b>T</b>) at <a href=\"https://github.com/JuliaLang/julia/tree/d386e40c17d43b79fc89d3e579fc04547241787c/base/promotion.jl#L349\" target=\"_blank\">promotion.jl:349</a>"
      ],
      "text/plain": [
       "==(x::T, y::T) where T<:Number in Base at promotion.jl:349"
      ]
     },
     "execution_count": 25,
     "metadata": {},
     "output_type": "execute_result"
    }
   ],
   "source": [
    "@which 1 == 1"
   ]
  },
  {
   "cell_type": "code",
   "execution_count": 26,
   "metadata": {},
   "outputs": [
    {
     "data": {
      "text/plain": [
       "== (generic function with 127 methods)"
      ]
     },
     "execution_count": 26,
     "metadata": {},
     "output_type": "execute_result"
    }
   ],
   "source": [
    "import Base.==\n",
    "function ==(A::Point2D, B::Point2D)\n",
    "    if A.x == B.x && A.y == B.y\n",
    "        return true\n",
    "    else\n",
    "        return false\n",
    "    end\n",
    "end"
   ]
  },
  {
   "cell_type": "code",
   "execution_count": 27,
   "metadata": {},
   "outputs": [
    {
     "data": {
      "text/plain": [
       "false"
      ]
     },
     "execution_count": 27,
     "metadata": {},
     "output_type": "execute_result"
    }
   ],
   "source": [
    "P == Q"
   ]
  },
  {
   "cell_type": "code",
   "execution_count": 28,
   "metadata": {},
   "outputs": [
    {
     "ename": "LoadError",
     "evalue": "\u001b[91mtype Point2D is immutable\u001b[39m",
     "output_type": "error",
     "traceback": [
      "\u001b[91mtype Point2D is immutable\u001b[39m",
      ""
     ]
    }
   ],
   "source": [
    "P.x = 10"
   ]
  },
  {
   "cell_type": "markdown",
   "metadata": {},
   "source": [
    "# EXERCISE\n",
    "- Create a type **Rectangular**, with its attributes \n",
    "- Write methods (function) to calculate its perimeters, areas\n",
    "- Check your type declaration by using Rectangular1(width = 2, length = 10), Rectangular2(width = 4, lenght = 5)\n",
    "- Write methods to compare whether 2 Rectangular is equal or not by assumpsing that 2 rectangulars are equal if their area are equal"
   ]
  },
  {
   "cell_type": "markdown",
   "metadata": {},
   "source": [
    "# 2- Second example of Julia TYPE: RATIONAL, outer constructor"
   ]
  },
  {
   "cell_type": "code",
   "execution_count": 29,
   "metadata": {},
   "outputs": [],
   "source": [
    "type Rational\n",
    "    numerator::Int64\n",
    "    denominator::Int64\n",
    "end\n"
   ]
  },
  {
   "cell_type": "code",
   "execution_count": 30,
   "metadata": {},
   "outputs": [
    {
     "data": {
      "text/plain": [
       "Rational(1, 2)"
      ]
     },
     "execution_count": 30,
     "metadata": {},
     "output_type": "execute_result"
    }
   ],
   "source": [
    "a = Rational(1,2)"
   ]
  },
  {
   "cell_type": "code",
   "execution_count": 31,
   "metadata": {},
   "outputs": [],
   "source": [
    "function Base.show(io::IO, r::Rational)\n",
    "    println(io, r.numerator, \"/\", r.denominator)\n",
    "end "
   ]
  },
  {
   "cell_type": "code",
   "execution_count": 32,
   "metadata": {},
   "outputs": [
    {
     "data": {
      "text/plain": [
       "1/2\n"
      ]
     },
     "execution_count": 32,
     "metadata": {},
     "output_type": "execute_result"
    }
   ],
   "source": [
    "a"
   ]
  },
  {
   "cell_type": "code",
   "execution_count": 33,
   "metadata": {},
   "outputs": [
    {
     "data": {
      "text/plain": [
       "1/3\n"
      ]
     },
     "execution_count": 33,
     "metadata": {},
     "output_type": "execute_result"
    }
   ],
   "source": [
    "b = Rational(1, 3)"
   ]
  },
  {
   "cell_type": "code",
   "execution_count": 34,
   "metadata": {},
   "outputs": [
    {
     "ename": "LoadError",
     "evalue": "\u001b[91mMethodError: no method matching +(::Rational, ::Rational)\u001b[0m\nClosest candidates are:\n  +(::Any, ::Any, \u001b[91m::Any\u001b[39m, \u001b[91m::Any...\u001b[39m) at operators.jl:424\u001b[39m",
     "output_type": "error",
     "traceback": [
      "\u001b[91mMethodError: no method matching +(::Rational, ::Rational)\u001b[0m\nClosest candidates are:\n  +(::Any, ::Any, \u001b[91m::Any\u001b[39m, \u001b[91m::Any...\u001b[39m) at operators.jl:424\u001b[39m",
      ""
     ]
    }
   ],
   "source": [
    "a + b"
   ]
  },
  {
   "cell_type": "markdown",
   "metadata": {},
   "source": [
    "SPECIAL OPERATOR: \n",
    "\n",
    "- Special operator: +, - , ==, * , / ....\n",
    "- Like print, we can override these to work with our type"
   ]
  },
  {
   "cell_type": "code",
   "execution_count": 35,
   "metadata": {},
   "outputs": [
    {
     "data": {
      "text/plain": [
       "Base.:+"
      ]
     },
     "execution_count": 35,
     "metadata": {},
     "output_type": "execute_result"
    }
   ],
   "source": [
    "import Base.+\n",
    "\"Add two rational number\"\n",
    "function +(a::Rational, b::Rational)\n",
    "    new_numerator = a.numerator * b.denominator + a.denominator * b.numerator\n",
    "    new_denominator = a.denominator * b.denominator\n",
    "    return Rational(new_numerator, new_denominator)\n",
    "end "
   ]
  },
  {
   "cell_type": "code",
   "execution_count": 36,
   "metadata": {},
   "outputs": [
    {
     "data": {
      "text/plain": [
       "5/6\n"
      ]
     },
     "execution_count": 36,
     "metadata": {},
     "output_type": "execute_result"
    }
   ],
   "source": [
    "a + b"
   ]
  },
  {
   "cell_type": "code",
   "execution_count": 37,
   "metadata": {},
   "outputs": [
    {
     "data": {
      "text/plain": [
       "/ (generic function with 74 methods)"
      ]
     },
     "execution_count": 37,
     "metadata": {},
     "output_type": "execute_result"
    }
   ],
   "source": [
    "# similarly\n",
    "import Base.-, Base.*, Base./\n",
    "\n",
    "# Minus two rational number\n",
    "function -(a::Rational, b::Rational)\n",
    "    new_numerator = a.numerator * b.denominator - a.denominator * b.numerator\n",
    "    new_denominator = a.denominator * b.denominator\n",
    "    return Rational(new_numerator, new_denominator)\n",
    "end \n",
    "\n",
    "\n",
    "# Multiply two rational number\n",
    "function *(a::Rational, b::Rational)\n",
    "    new_numerator = a.numerator * b.numerator\n",
    "    new_denominator = a.denominator * b.denominator\n",
    "    return Rational(new_numerator, new_denominator)\n",
    "end \n",
    "\n",
    "\n",
    "# Divide two rational number#\n",
    "function /(a::Rational, b::Rational)\n",
    "    new_numerator = a.numerator * b.denominator \n",
    "    new_denominator = a.denominator * b.numerator\n",
    "    return Rational(new_numerator, new_denominator)\n",
    "end \n"
   ]
  },
  {
   "cell_type": "code",
   "execution_count": 38,
   "metadata": {},
   "outputs": [
    {
     "data": {
      "text/plain": [
       "1/6\n"
      ]
     },
     "execution_count": 38,
     "metadata": {},
     "output_type": "execute_result"
    }
   ],
   "source": [
    "a - b"
   ]
  },
  {
   "cell_type": "code",
   "execution_count": 39,
   "metadata": {},
   "outputs": [
    {
     "data": {
      "text/plain": [
       "1/6\n"
      ]
     },
     "execution_count": 39,
     "metadata": {},
     "output_type": "execute_result"
    }
   ],
   "source": [
    "a * b"
   ]
  },
  {
   "cell_type": "code",
   "execution_count": 40,
   "metadata": {},
   "outputs": [
    {
     "data": {
      "text/plain": [
       "3/2\n"
      ]
     },
     "execution_count": 40,
     "metadata": {},
     "output_type": "execute_result"
    }
   ],
   "source": [
    "a / b"
   ]
  },
  {
   "cell_type": "code",
   "execution_count": 41,
   "metadata": {},
   "outputs": [
    {
     "data": {
      "text/plain": [
       "2/6\n"
      ]
     },
     "execution_count": 41,
     "metadata": {},
     "output_type": "execute_result"
    }
   ],
   "source": [
    "# Now what if\n",
    "c = Rational(2,6)"
   ]
  },
  {
   "cell_type": "markdown",
   "metadata": {},
   "source": [
    "This is not a good way to represent c, we would like to simplify c into c = 1/3. How to do that?"
   ]
  },
  {
   "cell_type": "code",
   "execution_count": 42,
   "metadata": {},
   "outputs": [
    {
     "data": {
      "text/plain": [
       "Rational"
      ]
     },
     "execution_count": 42,
     "metadata": {},
     "output_type": "execute_result"
    }
   ],
   "source": [
    "\n",
    "# Outer constructor\n",
    "function Rational(numerator::Int64, denominator::Int64)\n",
    "    divisor = gcd(numerator, denominator) # greatest common divisor\n",
    "    numerator /= divisor\n",
    "    denominator /= divisor\n",
    "    return Rational(numerator, denominator)\n",
    "end"
   ]
  },
  {
   "cell_type": "code",
   "execution_count": 43,
   "metadata": {},
   "outputs": [
    {
     "data": {
      "text/plain": [
       "3"
      ]
     },
     "execution_count": 43,
     "metadata": {},
     "output_type": "execute_result"
    }
   ],
   "source": [
    "# example of \"gcd\" function:\n",
    "gcd(3,9)"
   ]
  },
  {
   "cell_type": "code",
   "execution_count": 44,
   "metadata": {},
   "outputs": [
    {
     "data": {
      "text/plain": [
       "1/3\n"
      ]
     },
     "execution_count": 44,
     "metadata": {},
     "output_type": "execute_result"
    }
   ],
   "source": [
    "c = Rational(2,6)"
   ]
  },
  {
   "cell_type": "code",
   "execution_count": 45,
   "metadata": {},
   "outputs": [
    {
     "data": {
      "text/plain": [
       "1/0\n"
      ]
     },
     "execution_count": 45,
     "metadata": {},
     "output_type": "execute_result"
    }
   ],
   "source": [
    "a = Rational(2,0)"
   ]
  },
  {
   "cell_type": "markdown",
   "metadata": {},
   "source": [
    "2.1 Show on the screen\n",
    "- Julia use Base.show method when prining out your object\n",
    "- You can choose what it does! For instance, when we print a Rational object of 1/2, we want to show: \"1/2\""
   ]
  },
  {
   "cell_type": "code",
   "execution_count": 46,
   "metadata": {},
   "outputs": [],
   "source": [
    "function Base.show(io::IO, r::Rational)\n",
    "    println(io, r.numerator, \"/\", r.denominator)\n",
    "end "
   ]
  },
  {
   "cell_type": "code",
   "execution_count": 47,
   "metadata": {},
   "outputs": [
    {
     "data": {
      "text/plain": [
       "1/2\n"
      ]
     },
     "execution_count": 47,
     "metadata": {},
     "output_type": "execute_result"
    }
   ],
   "source": [
    "a = Rational(3,6)"
   ]
  },
  {
   "cell_type": "code",
   "execution_count": 48,
   "metadata": {},
   "outputs": [
    {
     "data": {
      "text/plain": [
       "1/2\n"
      ]
     },
     "execution_count": 48,
     "metadata": {},
     "output_type": "execute_result"
    }
   ],
   "source": [
    "b = Rational(3,6)"
   ]
  },
  {
   "cell_type": "code",
   "execution_count": 49,
   "metadata": {},
   "outputs": [
    {
     "name": "stdout",
     "output_type": "stream",
     "text": [
      "a + b = 1/1\n",
      "\n",
      "a - b = 0/1\n",
      "\n",
      "a * b = 1/4\n",
      "\n",
      "a / b = 1/1\n",
      "\n"
     ]
    },
    {
     "data": {
      "text/plain": [
       "1/1\n"
      ]
     },
     "execution_count": 49,
     "metadata": {},
     "output_type": "execute_result"
    }
   ],
   "source": [
    "@show a + b\n",
    "@show a - b\n",
    "@show a * b\n",
    "@show a / b"
   ]
  },
  {
   "cell_type": "markdown",
   "metadata": {},
   "source": [
    " We now would like to represent 1/1 as 1, and 0/1 as 0 when they are printed on the sceen. How to do that?"
   ]
  },
  {
   "cell_type": "code",
   "execution_count": 50,
   "metadata": {},
   "outputs": [],
   "source": [
    "# Modified how the rational type is shown on the screen\n",
    "function Base.show(io::IO, r::Rational)\n",
    "    if r.numerator == 0\n",
    "        println(io, 0)\n",
    "    elseif r.denominator == 1\n",
    "        println(io, r.numerator)\n",
    "    else     \n",
    "        println(io, r.numerator, \"/\", r.denominator)\n",
    "    end\n",
    "end"
   ]
  },
  {
   "cell_type": "code",
   "execution_count": 51,
   "metadata": {},
   "outputs": [
    {
     "name": "stdout",
     "output_type": "stream",
     "text": [
      "a + b = 1\n",
      "\n",
      "a - b = 0\n",
      "\n",
      "a * b = 1/4\n",
      "\n",
      "a / b = 1\n",
      "\n"
     ]
    },
    {
     "data": {
      "text/plain": [
       "1\n"
      ]
     },
     "execution_count": 51,
     "metadata": {},
     "output_type": "execute_result"
    }
   ],
   "source": [
    "@show a + b\n",
    "@show a - b\n",
    "@show a * b\n",
    "@show a / b"
   ]
  },
  {
   "cell_type": "markdown",
   "metadata": {},
   "source": [
    "Another problem occurs when the denominator is **0**"
   ]
  },
  {
   "cell_type": "code",
   "execution_count": 52,
   "metadata": {},
   "outputs": [
    {
     "data": {
      "text/plain": [
       "1/0\n"
      ]
     },
     "execution_count": 52,
     "metadata": {},
     "output_type": "execute_result"
    }
   ],
   "source": [
    "Rational(2, 0)"
   ]
  },
  {
   "cell_type": "markdown",
   "metadata": {},
   "source": [
    "We want to prevent user to input a rational with a denominator of **0**. Inner constructor can help us do that"
   ]
  },
  {
   "cell_type": "markdown",
   "metadata": {},
   "source": [
    "# 3- Example of INNER CONSTRUCTOR"
   ]
  },
  {
   "cell_type": "code",
   "execution_count": 53,
   "metadata": {},
   "outputs": [],
   "source": [
    "# Inner Constructor: Can check the condition of input parameter\"\"\"\n",
    "type Rational2 \n",
    "    numerator::Int64\n",
    "    denominator::Int64\n",
    "\n",
    "    function Rational2(numerator::Int64, denominator::Int64)\n",
    "        denominator == 0 && throw(ArgumentError(\"Invalid Rational: Denominator = 0!\"))\n",
    "        divisor = gcd(numerator, denominator)\n",
    "        numerator /= divisor\n",
    "        denominator /= divisor\n",
    "        new(numerator, denominator)\n",
    "    end\n",
    "end"
   ]
  },
  {
   "cell_type": "code",
   "execution_count": 54,
   "metadata": {},
   "outputs": [
    {
     "data": {
      "text/plain": [
       "1/0\n"
      ]
     },
     "execution_count": 54,
     "metadata": {},
     "output_type": "execute_result"
    }
   ],
   "source": [
    "c = Rational(1, 0)"
   ]
  },
  {
   "cell_type": "code",
   "execution_count": 55,
   "metadata": {},
   "outputs": [
    {
     "ename": "LoadError",
     "evalue": "\u001b[91mArgumentError: Invalid Rational: Denominator = 0!\u001b[39m",
     "output_type": "error",
     "traceback": [
      "\u001b[91mArgumentError: Invalid Rational: Denominator = 0!\u001b[39m",
      "",
      "Stacktrace:",
      " [1] \u001b[1mRational2\u001b[22m\u001b[22m\u001b[1m(\u001b[22m\u001b[22m::Int64, ::Int64\u001b[1m)\u001b[22m\u001b[22m at \u001b[1m./In[53]:7\u001b[22m\u001b[22m"
     ]
    }
   ],
   "source": [
    "d = Rational2(1, 0)"
   ]
  },
  {
   "cell_type": "markdown",
   "metadata": {},
   "source": [
    "# 4- Example of TYPE UNION"
   ]
  },
  {
   "cell_type": "code",
   "execution_count": 56,
   "metadata": {},
   "outputs": [
    {
     "data": {
      "text/plain": [
       "eltype (generic function with 2 methods)"
      ]
     },
     "execution_count": 56,
     "metadata": {},
     "output_type": "execute_result"
    }
   ],
   "source": [
    "type Point\n",
    "    x::Float64\n",
    "    y::Float64\n",
    "end \n",
    "\n",
    "type Vec \n",
    "    x::Float64\n",
    "    y::Float64\n",
    "end \n",
    "\n",
    "# Similarities\n",
    "ndims(v::Point)   = 2\n",
    "ndims(v::Vec)     = 2\n",
    "\n",
    "eltype(v::Point)  = Float64\n",
    "eltype(v::Vec)    = Float64\n"
   ]
  },
  {
   "cell_type": "markdown",
   "metadata": {},
   "source": [
    "How to reduce repeatation? Use UNION type"
   ]
  },
  {
   "cell_type": "code",
   "execution_count": 57,
   "metadata": {},
   "outputs": [
    {
     "data": {
      "text/plain": [
       "eltype (generic function with 3 methods)"
      ]
     },
     "execution_count": 57,
     "metadata": {},
     "output_type": "execute_result"
    }
   ],
   "source": [
    "# declare UNION type\n",
    "VecOrPoint = Union{Vec, Point}\n",
    "\n",
    "# now, use UNION type to reduce repeation\n",
    "ndims(v::VecOrPoint)  = 2\n",
    "eltype(v::VecOrPoint) = 1"
   ]
  },
  {
   "cell_type": "markdown",
   "metadata": {},
   "source": [
    "# 5- ABSTRACT TYPE"
   ]
  },
  {
   "cell_type": "markdown",
   "metadata": {},
   "source": [
    "Example: Recall a variety of concrete types of Integers: *Int8, Int16, Int32, Int64, Int128*, \n",
    "\n",
    "Abstract types allow the construction of a hirachies of types, providing a context into which concrete types can fit,\n",
    "\n",
    "Syntax:\n",
    "\n",
    "```Julia\n",
    "    abstract type <<name>> end\n",
    "    abstract type <<name>> <: <<suppertype>> end\n",
    "```\n",
    "The **abstract type** keyword introduces a new abstract type, whose name is given by **<<name>>"
   ]
  },
  {
   "cell_type": "code",
   "execution_count": 58,
   "metadata": {},
   "outputs": [
    {
     "data": {
      "text/plain": [
       "money (generic function with 1 method)"
      ]
     },
     "execution_count": 58,
     "metadata": {},
     "output_type": "execute_result"
    }
   ],
   "source": [
    "# EXAMPLE\n",
    "abstract type Shape end\n",
    "\n",
    "struct Square <: Shape\n",
    "    length::Real\n",
    "end\n",
    "\n",
    "function perimeter(s::Square)\n",
    "    return 4*s.length\n",
    "end\n",
    "\n",
    "function area(s::Square)\n",
    "    return s.length^2\n",
    "end\n",
    "\n",
    "struct Rectangular <: Shape\n",
    "    length::Real\n",
    "    width::Real\n",
    "end\n",
    "\n",
    "# which TYPE and MULTIPLE DISPATCH, we can use the same function name for different purposes\n",
    "function perimeter(s::Rectangular)\n",
    "    return 2*(s.length + s.width)\n",
    "end\n",
    "\n",
    "function area(s::Rectangular)\n",
    "    return s.length * s.width\n",
    "end\n",
    "\n",
    "# INHERITANCE EXAMPLE:\n",
    "# calculate the money which is necessary to buy paint for the area of a shape\n",
    "function money(s::Shape)\n",
    "    return area(s) * 100\n",
    "end"
   ]
  },
  {
   "cell_type": "code",
   "execution_count": 59,
   "metadata": {},
   "outputs": [
    {
     "data": {
      "text/plain": [
       "Square(10)"
      ]
     },
     "execution_count": 59,
     "metadata": {},
     "output_type": "execute_result"
    }
   ],
   "source": [
    "a = Square(10)"
   ]
  },
  {
   "cell_type": "code",
   "execution_count": 60,
   "metadata": {},
   "outputs": [
    {
     "data": {
      "text/plain": [
       "100"
      ]
     },
     "execution_count": 60,
     "metadata": {},
     "output_type": "execute_result"
    }
   ],
   "source": [
    "area(a)"
   ]
  },
  {
   "cell_type": "code",
   "execution_count": 61,
   "metadata": {},
   "outputs": [
    {
     "data": {
      "text/plain": [
       "40"
      ]
     },
     "execution_count": 61,
     "metadata": {},
     "output_type": "execute_result"
    }
   ],
   "source": [
    "perimeter(a)"
   ]
  },
  {
   "cell_type": "code",
   "execution_count": 62,
   "metadata": {},
   "outputs": [
    {
     "data": {
      "text/plain": [
       "10000"
      ]
     },
     "execution_count": 62,
     "metadata": {},
     "output_type": "execute_result"
    }
   ],
   "source": [
    "money(a)"
   ]
  },
  {
   "cell_type": "code",
   "execution_count": 63,
   "metadata": {},
   "outputs": [
    {
     "data": {
      "text/plain": [
       "Rectangular(10, 5)"
      ]
     },
     "execution_count": 63,
     "metadata": {},
     "output_type": "execute_result"
    }
   ],
   "source": [
    "b = Rectangular(10,5)"
   ]
  },
  {
   "cell_type": "code",
   "execution_count": 64,
   "metadata": {},
   "outputs": [
    {
     "data": {
      "text/plain": [
       "50"
      ]
     },
     "execution_count": 64,
     "metadata": {},
     "output_type": "execute_result"
    }
   ],
   "source": [
    "area(b)"
   ]
  },
  {
   "cell_type": "code",
   "execution_count": 65,
   "metadata": {},
   "outputs": [
    {
     "data": {
      "text/plain": [
       "5000"
      ]
     },
     "execution_count": 65,
     "metadata": {},
     "output_type": "execute_result"
    }
   ],
   "source": [
    "money(b)"
   ]
  },
  {
   "cell_type": "markdown",
   "metadata": {},
   "source": [
    "# 6- ANOTHER EXAMPLE OF ABSTRACT TYPE"
   ]
  },
  {
   "cell_type": "code",
   "execution_count": 66,
   "metadata": {},
   "outputs": [
    {
     "data": {
      "text/plain": [
       "speak (generic function with 2 methods)"
      ]
     },
     "execution_count": 66,
     "metadata": {},
     "output_type": "execute_result"
    }
   ],
   "source": [
    "# The \"AnimalType\" type is a direct child type of \"Any\"\n",
    "abstract type AnimalType end\n",
    "\n",
    "# \"PeopleType\" is a child of \"AnimalType\"\n",
    "abstract type PeopleType <: AnimalType end\n",
    "\n",
    "\n",
    "type Cat <: AnimalType\n",
    "    name::String\n",
    "    age::Int64\n",
    "end\n",
    "\n",
    "type Engineer <: PeopleType\n",
    "    name::String\n",
    "    age::Int64\n",
    "end  \n",
    "\n",
    "type Student <: PeopleType\n",
    "    name::String\n",
    "    age::String\n",
    "    major::String\n",
    "end\n",
    "\n",
    "function get_age(s::AnimalType)\n",
    "   return s.age\n",
    "end\n",
    "\n",
    "function get_name(s::AnimalType)\n",
    "    return s.name\n",
    "end\n",
    "\n",
    "function Base.show(io::IO, r::AnimalType)\n",
    "    println(io, typeof(r) , \": \", r.name, \" , age : \", r.age)\n",
    "end\n",
    "\n",
    "function speak(s::PeopleType)\n",
    "    println(\"Hello\")\n",
    "end\n",
    "\n",
    "function speak(s::Cat)\n",
    "    println(\"Meo Meo\")\n",
    "end\n",
    "\n"
   ]
  },
  {
   "cell_type": "code",
   "execution_count": 67,
   "metadata": {},
   "outputs": [
    {
     "data": {
      "text/plain": [
       "Engineer: Gia An , age : 1\n"
      ]
     },
     "execution_count": 67,
     "metadata": {},
     "output_type": "execute_result"
    }
   ],
   "source": [
    "An = Engineer(\"Gia An\", 1)"
   ]
  },
  {
   "cell_type": "code",
   "execution_count": 68,
   "metadata": {},
   "outputs": [
    {
     "data": {
      "text/plain": [
       "1"
      ]
     },
     "execution_count": 68,
     "metadata": {},
     "output_type": "execute_result"
    }
   ],
   "source": [
    "get_age(An)"
   ]
  },
  {
   "cell_type": "code",
   "execution_count": 69,
   "metadata": {},
   "outputs": [
    {
     "data": {
      "text/plain": [
       "Cat: Mimeo , age : 13\n"
      ]
     },
     "execution_count": 69,
     "metadata": {},
     "output_type": "execute_result"
    }
   ],
   "source": [
    "a = Cat(\"Mimeo\", 13)"
   ]
  },
  {
   "cell_type": "code",
   "execution_count": 70,
   "metadata": {},
   "outputs": [
    {
     "ename": "LoadError",
     "evalue": "\u001b[91mMethodError: objects of type Cat are not callable\u001b[39m",
     "output_type": "error",
     "traceback": [
      "\u001b[91mMethodError: objects of type Cat are not callable\u001b[39m",
      ""
     ]
    }
   ],
   "source": [
    "a(Val{:getName})"
   ]
  },
  {
   "cell_type": "markdown",
   "metadata": {},
   "source": [
    "# 7- TYPE ALIASES\n",
    "\n",
    "Sometimes it is convenient to introduce a new name for an already expressible type. For such occasions, Julia provides the \"typealias\" mechanism"
   ]
  },
  {
   "cell_type": "code",
   "execution_count": 71,
   "metadata": {},
   "outputs": [
    {
     "data": {
      "text/plain": [
       "Dict{String,Float64} with 2 entries:\n",
       "  \"kappa\"  => 1.0\n",
       "  \"lambda\" => 1.2"
      ]
     },
     "execution_count": 71,
     "metadata": {},
     "output_type": "execute_result"
    }
   ],
   "source": [
    "# Example 1: Dictionary type\n",
    "params = Dict(\n",
    "            \"lambda\" => 1.2,\n",
    "             \"kappa\" => 1.0)"
   ]
  },
  {
   "cell_type": "code",
   "execution_count": 72,
   "metadata": {},
   "outputs": [
    {
     "data": {
      "text/plain": [
       "Dict{String,Float64}"
      ]
     },
     "execution_count": 72,
     "metadata": {},
     "output_type": "execute_result"
    }
   ],
   "source": [
    "const Parameters = Dict{String, Float64}"
   ]
  },
  {
   "cell_type": "code",
   "execution_count": 73,
   "metadata": {},
   "outputs": [
    {
     "data": {
      "text/plain": [
       "Dict{String,Float64} with 2 entries:\n",
       "  \"kappa\"  => 1.0\n",
       "  \"lambda\" => 1.2"
      ]
     },
     "execution_count": 73,
     "metadata": {},
     "output_type": "execute_result"
    }
   ],
   "source": [
    "params2 = Parameters(\n",
    "            \"lambda\" => 1.2,\n",
    "            \"kappa\"  => 1.0)"
   ]
  },
  {
   "cell_type": "markdown",
   "metadata": {},
   "source": [
    "For parameteric types, typealias can be convenient for providing names for cases where some of the parameter choices are fixed"
   ]
  },
  {
   "cell_type": "code",
   "execution_count": 74,
   "metadata": {},
   "outputs": [
    {
     "data": {
      "text/plain": [
       "CamClay{Variation}"
      ]
     },
     "execution_count": 74,
     "metadata": {},
     "output_type": "execute_result"
    }
   ],
   "source": [
    "abstract type CamClayType end\n",
    "abstract type Original end\n",
    "abstract type Modified end\n",
    "abstract type Variation end\n",
    "\n",
    "const Parameters = Dict{String, Float64}\n",
    "const InitConds = Dict{String, Float64}\n",
    "\n",
    "#struct CamClay{T<:Union{Original, Modified, Variation}} \n",
    "    \n",
    "struct CamClay{T} <: CamClayType\n",
    "    \n",
    "    params::Parameters\n",
    "    inits::InitConds\n",
    "\n",
    "    function CamClay(params::Parameters, inits::InitConds)\n",
    "        λ   = params[\"lambda\"]\n",
    "        κ   = params[\"kappa\"]\n",
    "        ν   = params[\"poisson ratio\"] \n",
    "        Pa  = params[\"reference pressure\"]\n",
    "        eNC = params[\"reference void ratio\"]        \n",
    "        e0  = inits[\"initial void ratio\"]\n",
    "        p0  = inits[\"initial mean stress\"]\n",
    "        e1  = eNC - λ * log(p0/Pa)\n",
    "        params[\"pc0\"] = p0 * exp((e1 - e0) / (λ - κ))   \n",
    "        new(params, inits)\n",
    "    end \n",
    "end\n",
    "\n",
    "const OriginalCamClay = CamClay{Original}\n",
    "const ModifiedCamClay = CamClay{Modified}\n",
    "const VariationMCC  =  CamClay{Variation}\n",
    "\n"
   ]
  },
  {
   "cell_type": "code",
   "execution_count": 75,
   "metadata": {},
   "outputs": [
    {
     "data": {
      "text/plain": [
       "CamClay{Modified}(Dict(\"poisson ratio\"=>0.3,\"pc0\"=>274.588,\"kappa\"=>0.052,\"lambda\"=>0.25,\"reference pressure\"=>100.0,\"reference void ratio\"=>0.8,\"critical stress ratio\"=>0.9), Dict(\"initial void ratio\"=>0.6,\"initial mean stress\"=>100.0))"
      ]
     },
     "execution_count": 75,
     "metadata": {},
     "output_type": "execute_result"
    }
   ],
   "source": [
    "model = ModifiedCamClay( \n",
    "                            Parameters(\n",
    "                            # model parameters\n",
    "                            \"lambda\"                => 0.25,\n",
    "                            \"kappa\"                 => 0.052,   \n",
    "                            \"poisson ratio\"         => 0.3, \n",
    "                            \"reference void ratio\"  => 0.8,\n",
    "                            \"critical stress ratio\" => 0.9,  \n",
    "                            # reference pressure\n",
    "                            \"reference pressure\"   =>  100.0,),\n",
    "  \n",
    "                            InitConds(\n",
    "                            # initial condition\n",
    "                            \"initial void ratio\"    => 0.6,\n",
    "                            \"initial mean stress\"   => 100.0,\n",
    "                            ))\n",
    "\n"
   ]
  },
  {
   "cell_type": "code",
   "execution_count": 76,
   "metadata": {},
   "outputs": [
    {
     "data": {
      "text/plain": [
       "Dict{String,Float64} with 7 entries:\n",
       "  \"poisson ratio\"         => 0.3\n",
       "  \"pc0\"                   => 274.588\n",
       "  \"kappa\"                 => 0.052\n",
       "  \"lambda\"                => 0.25\n",
       "  \"reference pressure\"    => 100.0\n",
       "  \"reference void ratio\"  => 0.8\n",
       "  \"critical stress ratio\" => 0.9"
      ]
     },
     "execution_count": 76,
     "metadata": {},
     "output_type": "execute_result"
    }
   ],
   "source": [
    "model.params"
   ]
  },
  {
   "cell_type": "code",
   "execution_count": 77,
   "metadata": {},
   "outputs": [
    {
     "data": {
      "text/plain": [
       "Dict{String,Float64} with 2 entries:\n",
       "  \"initial void ratio\"  => 0.6\n",
       "  \"initial mean stress\" => 100.0"
      ]
     },
     "execution_count": 77,
     "metadata": {},
     "output_type": "execute_result"
    }
   ],
   "source": [
    "model.inits"
   ]
  },
  {
   "cell_type": "code",
   "execution_count": 78,
   "metadata": {},
   "outputs": [
    {
     "data": {
      "text/plain": [
       "Array{T,1} where T"
      ]
     },
     "execution_count": 78,
     "metadata": {},
     "output_type": "execute_result"
    }
   ],
   "source": [
    "typealias Vector{T} Array{T,1}"
   ]
  },
  {
   "cell_type": "markdown",
   "metadata": {},
   "source": [
    "# VALUE TYPE"
   ]
  },
  {
   "cell_type": "code",
   "execution_count": 79,
   "metadata": {},
   "outputs": [
    {
     "data": {
      "text/plain": [
       "calc (generic function with 1 method)"
      ]
     },
     "execution_count": 79,
     "metadata": {},
     "output_type": "execute_result"
    }
   ],
   "source": [
    "function calc(model::CamClayType, ::Type{Val{:De}})\n",
    "    return ones(6,6)\n",
    "end"
   ]
  },
  {
   "cell_type": "code",
   "execution_count": 80,
   "metadata": {},
   "outputs": [
    {
     "data": {
      "text/plain": [
       "6×6 Array{Float64,2}:\n",
       " 1.0  1.0  1.0  1.0  1.0  1.0\n",
       " 1.0  1.0  1.0  1.0  1.0  1.0\n",
       " 1.0  1.0  1.0  1.0  1.0  1.0\n",
       " 1.0  1.0  1.0  1.0  1.0  1.0\n",
       " 1.0  1.0  1.0  1.0  1.0  1.0\n",
       " 1.0  1.0  1.0  1.0  1.0  1.0"
      ]
     },
     "execution_count": 80,
     "metadata": {},
     "output_type": "execute_result"
    }
   ],
   "source": [
    "calc(model, Val{:De})"
   ]
  },
  {
   "cell_type": "markdown",
   "metadata": {},
   "source": [
    "# FUNCTION-LIKED OBJECT"
   ]
  },
  {
   "cell_type": "code",
   "execution_count": 81,
   "metadata": {},
   "outputs": [],
   "source": [
    "function (s::Point2D)(::Type{Val{:x}})\n",
    "    return s.x\n",
    "end\n",
    "\n",
    "function (s::Point2D)(::Type{Val{:y}})\n",
    "    return s.y\n",
    "end"
   ]
  },
  {
   "cell_type": "code",
   "execution_count": 82,
   "metadata": {},
   "outputs": [
    {
     "data": {
      "text/plain": [
       "2.0"
      ]
     },
     "execution_count": 82,
     "metadata": {},
     "output_type": "execute_result"
    }
   ],
   "source": [
    "P(Val{:x})"
   ]
  },
  {
   "cell_type": "code",
   "execution_count": 83,
   "metadata": {},
   "outputs": [
    {
     "data": {
      "text/plain": [
       "5.0"
      ]
     },
     "execution_count": 83,
     "metadata": {},
     "output_type": "execute_result"
    }
   ],
   "source": [
    "P(Val{:y})"
   ]
  }
 ],
 "metadata": {
  "kernelspec": {
   "display_name": "Julia 0.6.2",
   "language": "julia",
   "name": "julia-0.6"
  },
  "language_info": {
   "file_extension": ".jl",
   "mimetype": "application/julia",
   "name": "julia",
   "version": "0.6.2"
  }
 },
 "nbformat": 4,
 "nbformat_minor": 2
}
