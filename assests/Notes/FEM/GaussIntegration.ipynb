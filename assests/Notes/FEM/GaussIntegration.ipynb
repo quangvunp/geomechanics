{
 "cells": [
  {
   "cell_type": "markdown",
   "metadata": {},
   "source": [
    "Notice that, the code here is based on Julia 1.0.0"
   ]
  },
  {
   "cell_type": "code",
   "execution_count": 1,
   "metadata": {},
   "outputs": [
    {
     "name": "stdout",
     "output_type": "stream",
     "text": [
      "\u001b[32m\u001b[1m  Updating\u001b[22m\u001b[39m registry at `/home/jrun/.julia/registries/JuliaPro`\n",
      "\u001b[32m\u001b[1m  Updating\u001b[22m\u001b[39m git-repo `https://pkg.juliacomputing.com/registry/JuliaPro`\n",
      "\u001b[?25l\u001b[2K\u001b[?25h\u001b[32m\u001b[1m Resolving\u001b[22m\u001b[39m package versions...\n",
      "\u001b[32m\u001b[1m  Updating\u001b[22m\u001b[39m `~/.julia/Project.toml`\n",
      "\u001b[90m [no changes]\u001b[39m\n",
      "\u001b[32m\u001b[1m  Updating\u001b[22m\u001b[39m `~/.julia/Manifest.toml`\n",
      "\u001b[90m [no changes]\u001b[39m\n"
     ]
    }
   ],
   "source": [
    "using Pkg;\n",
    "Pkg.add(\"SymPy\");\n",
    "using SymPy;\n",
    "using LinearAlgebra;"
   ]
  },
  {
   "cell_type": "code",
   "execution_count": 2,
   "metadata": {},
   "outputs": [
    {
     "data": {
      "text/plain": [
       "gauss_integration (generic function with 1 method)"
      ]
     },
     "execution_count": 2,
     "metadata": {},
     "output_type": "execute_result"
    }
   ],
   "source": [
    "#------------------------------------------------------------------------------\n",
    "function gauss_integration(nGauss, dim)\n",
    "#------------------------------------------------------------------------------\n",
    "# PURPOSE:\n",
    "#     Determine Gauss point's coordinate and the corresponding Gauss weight\n",
    "# SYNTAX:\n",
    "#     gauss_integration(nGauss, rGauss, dim)\n",
    "# INPUT:\n",
    "#     nGauss: the number of Gauss point\n",
    "#     dim   : dimension of the problem (dim = 1 or dim = 2 or dim = 3)\n",
    "# OUPUT:\n",
    "#      gausspoint_coordinate: The Gauss point's coordinate\n",
    "#      gausspoint_weight: The Gauss point's weight\n",
    "#------------------------------------------------------------------------------\n",
    "\n",
    "# Initiate gausspoint_coordinate and gausspoint_weight\n",
    "   gausspoint_coordinate = zeros(nGauss^dim, dim)\n",
    "   gausspoint_weight = Float64[];\n",
    "\n",
    "#******** the integration domain is [-1 1] for all of direction:***************\n",
    "\n",
    "    #------------- Limit the number of Gauss point up to 5 --------------------\n",
    "    if (nGauss > 5)\n",
    "        println(\"The number of Gauss point shouldn't be more than 5\")\n",
    "    end\n",
    "\n",
    "    #------------- The number of Gauss point in one direction -----------------\n",
    "    if nGauss == 1\n",
    "        point = 0.0 \n",
    "        weight = 2.0\n",
    "        j\n",
    "    elseif nGauss == 2\n",
    "        point = [-0.577350269189626\n",
    "                  0.577350269189626]\n",
    "        weight = [1.0 1.0]\n",
    "\n",
    "    elseif nGauss == 3\n",
    "        point = [ 0\n",
    "                 -0.774596669241483\n",
    "                  0.774596669241483];\n",
    "                \n",
    "        weight = [8/9\n",
    "                  5/9\n",
    "                  5/9];\n",
    "\n",
    "    elseif nGauss == 4\n",
    "        point = [-0.3399810435848563\n",
    "                  0.3399810435848563\n",
    "                 -0.8611363115940526\n",
    "                  0.8611363115940526];\n",
    "               \n",
    "        weight = [0.6521451548625461\n",
    "                 0.6521451548625461\n",
    "                 0.3478548451374538\n",
    "                 0.3478548451374538];\n",
    "    elseif nGauss == 5\n",
    "        point = [ 0\n",
    "                -0.5384693101056831\n",
    "                 0.5384693101056831\n",
    "                -0.9061798459386640\n",
    "                 0.9061798459386640];\n",
    "                \n",
    "        weight = [0.5688888888888889\n",
    "                 0.4786286704993665\n",
    "                 0.4786286704993665\n",
    "                 0.2369268850561891\n",
    "                 0.2369268850561891];\n",
    "\n",
    "    end \n",
    "    #-----------------------------DIMENSION -----------------------------------\n",
    "    # One dimension problem\n",
    "    if dim == 1\n",
    "        for i = 1:nGauss\n",
    "            gausspoint_coordinate[i,:] = [point[i]]\n",
    "            push!(gausspoint_weight, weight[i])\n",
    "        end\n",
    "        return gausspoint_coordinate, gausspoint_weight\n",
    "\n",
    "    # Two dimension problem\n",
    "    elseif dim == 2\n",
    "        n = 0\n",
    "        for i = 1:nGauss\n",
    "            for j = 1:nGauss\n",
    "                n = n + 1\n",
    "                gausspoint_coordinate[n,:] = [point[i] point[j]]\n",
    "                push!(gausspoint_weight, weight[i] * weight[j])\n",
    "            end\n",
    "        end\n",
    "        return gausspoint_coordinate, gausspoint_weight\n",
    "        \n",
    "    # Three dimension problem\n",
    "    elseif dim == 3\n",
    "        n = 0\n",
    "        for i = 1:nGauss\n",
    "            for j =  1:nGauss\n",
    "                for k = 1:nGauss\n",
    "                    n = n + 1\n",
    "                    gausspoint_coordinate[n,:] = [point[i] point[j] point[k]]\n",
    "                    push!(gausspoint_weight, weight[i] * weight[j] * weight[k])\n",
    "                end\n",
    "            end\n",
    "        end\n",
    "        return gausspoint_coordinate, gausspoint_weight\n",
    "    end\n",
    "end\n"
   ]
  },
  {
   "cell_type": "code",
   "execution_count": 3,
   "metadata": {},
   "outputs": [
    {
     "name": "stdout",
     "output_type": "stream",
     "text": [
      "I = -492.93333333333237\n",
      "I_analytical = -492.933333333333\n"
     ]
    },
    {
     "data": {
      "text/latex": [
       "\\begin{equation*}-492.933333333333\\end{equation*}"
      ],
      "text/plain": [
       "-492.933333333333"
      ]
     },
     "execution_count": 3,
     "metadata": {},
     "output_type": "execute_result"
    }
   ],
   "source": [
    "#= \n",
    "Example1: Calculate the integration of \n",
    "f(x) =  0.2 + 25x - 200x^2 + 675x^3 - 900x^4 + 400x^5\n",
    "here x = [-1, 1]\n",
    "=#\n",
    "\n",
    "\n",
    "nGauss =  3\n",
    "dim = 1\n",
    "\n",
    "gauss_point, gauss_weight = gauss_integration(nGauss, dim)\n",
    "\n",
    "\n",
    "f(x) =  0.2 + 25x - 200x^2 + 675x^3 - 900x^4 + 400x^5\n",
    "\n",
    "I = 0\n",
    "\n",
    "# loop over all of gauss points\n",
    "for i = 1:length(gauss_point)\n",
    "    I = I + f(gauss_point[i]) * gauss_weight[i]\n",
    "end \n",
    "\n",
    "@show I\n",
    "\n",
    "\n",
    "# Analytical solution\n",
    "x = Sym(\"x\")\n",
    "I_analytical = integrate( 0.2 + 25x - 200x^2 + 675x^3 - 900x^4 + 400x^5, (x, -1, 1))\n",
    "@show I_analytical"
   ]
  },
  {
   "cell_type": "code",
   "execution_count": 4,
   "metadata": {},
   "outputs": [
    {
     "name": "stdout",
     "output_type": "stream",
     "text": [
      "I = 723.7333333333321\n",
      "I_analytical = 723.733333333334\n"
     ]
    },
    {
     "data": {
      "text/latex": [
       "\\begin{equation*}723.733333333334\\end{equation*}"
      ],
      "text/plain": [
       "723.733333333334"
      ]
     },
     "execution_count": 4,
     "metadata": {},
     "output_type": "execute_result"
    }
   ],
   "source": [
    "#= \n",
    "Example 2: Calculate the integration of \n",
    "f(x) =  0.2 + 25x - 200x^2 + 675x^3 - 900x^4 + 400x^5\n",
    "where x = [0, 2]\n",
    "=#\n",
    "\n",
    "nGauss =  3\n",
    "dim = 1\n",
    "\n",
    "# function f\n",
    "f1(x) =  0.2 + 25x - 200x^2 + 675x^3 - 900x^4 + 400x^5\n",
    "\n",
    "a = 0 # lower bound of the limit\n",
    "b = 2 # upper bound of the limit\n",
    "J = (b-a)/2 # Jacobian value\n",
    "\n",
    "I = 0 \n",
    "gauss_point, gauss_weight = gauss_integration(nGauss, dim)\n",
    "\n",
    "for i = 1:length(gauss_point) # loop over Gauss points\n",
    "    x = (a+b)/2 + (b-a)/2* gauss_point[i]\n",
    "    I = I + J * f1(x) * gauss_weight[i]\n",
    "end \n",
    "@show I\n",
    "\n",
    "\n",
    "# ANALYTICAL SOLUTION\n",
    "x = Sym(\"x\")\n",
    "I_analytical = integrate(0.2 + 25x - 200x^2 + 675x^3 - 900x^4 + 400x^5,(x,0,2))\n",
    "@show I_analytical"
   ]
  },
  {
   "cell_type": "code",
   "execution_count": 9,
   "metadata": {},
   "outputs": [
    {
     "name": "stdout",
     "output_type": "stream",
     "text": [
      "The number of Gauss Points is equal to the necessary one\n",
      "I = 723.7333333333321\n",
      "The number of Gauss Points is higher than the necessary one\n",
      "I = 723.7333333333331\n",
      "The number of Gauss Points is less than the necessary one\n",
      "I = 528.1777777777781\n"
     ]
    },
    {
     "data": {
      "text/plain": [
       "528.1777777777781"
      ]
     },
     "execution_count": 9,
     "metadata": {},
     "output_type": "execute_result"
    }
   ],
   "source": [
    "#= \n",
    "Example 2: Calculate the integration of \n",
    "f(x) =  0.2 + 25x - 200x^2 + 675x^3 - 900x^4 + 400x^5\n",
    "where x = [0, 2]\n",
    "=#\n",
    "\n",
    "\n",
    "# function f\n",
    "f1(x) =  0.2 + 25x - 200x^2 + 675x^3 - 900x^4 + 400x^5\n",
    "\n",
    "a = 0 # lower bound of the limit\n",
    "b = 2 # upper bound of the limit\n",
    "J = (b-a)/2 # Jacobian value\n",
    "\n",
    "println(\"The number of Gauss Points is equal to the necessary one\")\n",
    "# CHECK WITH THE LOWER NUMBER OF GAUSS POINT\n",
    "I = 0 \n",
    "nGauss =  3\n",
    "dim = 1\n",
    "gauss_point, gauss_weight = gauss_integration(nGauss, dim)\n",
    "\n",
    "for i = 1:length(gauss_point) # loop over Gauss points\n",
    "    x = (a+b)/2 + (b-a)/2* gauss_point[i]\n",
    "    I = I + J * f1(x) * gauss_weight[i]\n",
    "end \n",
    "@show I\n",
    "\n",
    "println(\"The number of Gauss Points is higher than the necessary one\")\n",
    "# CHECK WITH THE HIGHER NUMBER OF GAUSS POINT\n",
    "I = 0 \n",
    "nGauss =  4\n",
    "dim = 1\n",
    "gauss_point, gauss_weight = gauss_integration(nGauss, dim)\n",
    "\n",
    "for i = 1:length(gauss_point) # loop over Gauss points\n",
    "    x = (a+b)/2 + (b-a)/2* gauss_point[i]\n",
    "    I = I + J * f1(x) * gauss_weight[i]\n",
    "end \n",
    "@show I\n",
    "\n",
    "println(\"The number of Gauss Points is less than the necessary one\")\n",
    "# CHECK WITH THE LOWER NUMBER OF GAUSS POINT\n",
    "I = 0 \n",
    "nGauss =  2\n",
    "dim = 1\n",
    "gauss_point, gauss_weight = gauss_integration(nGauss, dim)\n",
    "\n",
    "for i = 1:length(gauss_point) # loop over Gauss points\n",
    "    x = (a+b)/2 + (b-a)/2* gauss_point[i]\n",
    "    I = I + J * f1(x) * gauss_weight[i]\n",
    "end \n",
    "@show I\n"
   ]
  },
  {
   "cell_type": "code",
   "execution_count": 6,
   "metadata": {},
   "outputs": [
    {
     "name": "stdout",
     "output_type": "stream",
     "text": [
      "I = -985.8666666666667\n",
      "I_analytical = -985.866666666667\n"
     ]
    },
    {
     "data": {
      "text/latex": [
       "\\begin{equation*}-985.866666666667\\end{equation*}"
      ],
      "text/plain": [
       "-985.866666666667"
      ]
     },
     "execution_count": 6,
     "metadata": {},
     "output_type": "execute_result"
    }
   ],
   "source": [
    "#=\n",
    "Example 3: Calculate the integration of \n",
    "f(x, y) =  0.2 + 25x - 200y^2 + 675x^3 - 900y^4 + 400x^5\n",
    "where x = [-1, 1], y =[-1, 1]\n",
    "=#\n",
    "\n",
    "nGauss = 5\n",
    "dim = 2\n",
    "\n",
    "# function f\n",
    "f4(x,y) =  0.2 + 25x - 200y^2 + 657x^3 - 900y^4 + 400x^5\n",
    "\n",
    "I = 0 \n",
    "gauss_point, gauss_weight = gauss_integration(nGauss, dim)\n",
    "\n",
    "for i = 1:length(gauss_weight) # loop over Gauss points\n",
    "    I = I +  f4(gauss_point[i,1], gauss_point[i,2]) * gauss_weight[i]\n",
    "end \n",
    "\n",
    "@show I\n",
    "\n",
    "#Analytical\n",
    "\n",
    "x = Sym(\"x\")\n",
    "y = Sym(\"y\")\n",
    "I_analytical = integrate(0.2 + 25x - 200y^2 + 657x^3 - 900y^4 + 400x^5, (x,-1,1), (y,-1,1))\n",
    "@show I_analytical"
   ]
  },
  {
   "cell_type": "code",
   "execution_count": 7,
   "metadata": {},
   "outputs": [
    {
     "name": "stdout",
     "output_type": "stream",
     "text": [
      "I = 0.666666666666667\n",
      "I_analytical = integrate(detJ, (ξ, -1, 1), (η, -1, 1)) = 0.666666666666667\n"
     ]
    },
    {
     "data": {
      "text/latex": [
       "\\begin{equation*}0.666666666666667\\end{equation*}"
      ],
      "text/plain": [
       "0.666666666666667"
      ]
     },
     "execution_count": 7,
     "metadata": {},
     "output_type": "execute_result"
    }
   ],
   "source": [
    "#=\n",
    "Example 4: Reference: https://ctec.tvu.edu.vn/ttkhai/TCC/21_Tich_phan_hai_lop.htm\n",
    "Calculate integration of F = ∫∫dxdy, with the domain is limited by:\n",
    "   x + y = 1\n",
    "   x + y = 2\n",
    "   2x - y = 1\n",
    "   2x - y = 3\n",
    "=#\n",
    "\n",
    "ξ = Sym(\"xi\")\n",
    "η = Sym(\"eta\")\n",
    "\n",
    "N1 = 1/4*(1-ξ)*(1-η)\n",
    "N2 = 1/4*(1+ξ)*(1-η)\n",
    "N3 = 1/4*(1+ξ)*(1+η)\n",
    "N4 = 1/4*(1-ξ)*(1+η)\n",
    "\n",
    "X =[4/3, 5/3, 1, 2/3]\n",
    "Y =[-1/3, 1/3, 1, 1/3]\n",
    "\n",
    "x = [N1 N2 N3 N4]*X\n",
    "y = [N1 N2 N3 N4]*Y\n",
    "\n",
    "J =[diff(x,ξ) diff(y,ξ);diff(x,η) diff(y,η)]\n",
    "\n",
    "detJ = det(J)\n",
    "\n",
    "gauss_point, gauss_weight = gauss_integration(3,2)\n",
    "\n",
    "\n",
    "I = 0  \n",
    "\n",
    "for i = 1:length(gauss_weight)\n",
    "    I += 1 * detJ(gauss_point[i,1], gauss_point[i,2]) * gauss_weight[i]\n",
    "end\n",
    "@show I\n",
    "    \n",
    "# ANALYTICAL SOLUTION\n",
    "@show I_analytical = integrate(detJ,(ξ,-1,1),(η,-1,1))\n"
   ]
  },
  {
   "cell_type": "code",
   "execution_count": 8,
   "metadata": {},
   "outputs": [
    {
     "data": {
      "image/png": "[encoded data removed]",
      "text/plain": [
       "Figure(PyObject <Figure size 640x480 with 1 Axes>)"
      ]
     },
     "metadata": {},
     "output_type": "display_data"
    },
    {
     "name": "stdout",
     "output_type": "stream",
     "text": [
      "x = collect(range(0, stop=3, length=4)) = [0.0, 1.0, 2.0, 3.0]\n",
      "y1 = [1 - i for i = x] = [1.0, 0.0, -1.0, -2.0]\n"
     ]
    },
    {
     "name": "stderr",
     "output_type": "stream",
     "text": [
      "/usr/local/lib/python2.7/dist-packages/matplotlib/cbook/deprecation.py:107: MatplotlibDeprecationWarning: Passing one of 'on', 'true', 'off', 'false' as a boolean is deprecated; use an actual boolean (True/False) instead.\n",
      "  warnings.warn(message, mplDeprecation, stacklevel=1)\n"
     ]
    },
    {
     "data": {
      "text/plain": [
       "PyObject <matplotlib.legend.Legend object at 0x7f282b4d1490>"
      ]
     },
     "execution_count": 8,
     "metadata": {},
     "output_type": "execute_result"
    }
   ],
   "source": [
    "# Plot the domain of integartion in exercise 4\n",
    "using PyPlot\n",
    "@show x = collect(range(0, stop = 3, length = 4))\n",
    "@show y1 = [1-i for i in x]\n",
    "y2 = [2-i for i in x]\n",
    "y3 = [2i - 1 for i in x]\n",
    "y4 = [2i - 3 for i in x]\n",
    "#using PyPlot\n",
    "plot(x,y1 , label = \"y=1-x\")\n",
    "plot(x,y2 , label = \"y=2-x\")\n",
    "plot(x,y3 , label = \"y=2x-1\")\n",
    "plot(x,y4 , label = \"y=2x-3\")\n",
    "\n",
    "plot([1],[1],\"o\")\n",
    "text(0.9,1.3, \"(1,1)\")\n",
    "\n",
    "plot([4/3],[-1/3],\"o\")\n",
    "text(4/3+0.1,-1/3,\"(4/3,-1/3)\")\n",
    "\n",
    "plot([5/3],[1/3],\"o\")\n",
    "text(5/3+0.1,1/3,\"(5/3,1/3)\")\n",
    "\n",
    "plot([2/3],[1/3],\"o\")\n",
    "text(2/3+0.1,1/3,\"(2/3,1/3)\")\n",
    "xlabel(\"x\")\n",
    "ylabel(\"y\")\n",
    "\n",
    "\n",
    "tick_params(which = \"both\", direction = \"in\", color = \"black\")\n",
    "tick_params(which=\"major\", length=7)\n",
    "tick_params(which=\"minor\", length=3)\n",
    "grid(linestyle = \"--\", linewidth = 0.8, color = \"grey\")\n",
    "grid(\"on\")\n",
    "minorticks_on()\n",
    "xlim(0,3)\n",
    "ylim(-2,2)\n",
    "legend()"
   ]
  },
  {
   "cell_type": "code",
   "execution_count": null,
   "metadata": {},
   "outputs": [],
   "source": []
  }
 ],
 "metadata": {
  "kernelspec": {
   "display_name": "Julia 1.0.0",
   "language": "julia",
   "name": "julia-1.0"
  },
  "language_info": {
   "file_extension": ".jl",
   "mimetype": "application/julia",
   "name": "julia",
   "version": "1.0.0"
  }
 },
 "nbformat": 4,
 "nbformat_minor": 2
}
