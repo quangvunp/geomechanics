{
 "cells": [
  {
   "cell_type": "code",
   "execution_count": 1,
   "metadata": {},
   "outputs": [
    {
     "name": "stdout",
     "output_type": "stream",
     "text": [
      "\u001b[32m\u001b[1m  Updating\u001b[22m\u001b[39m registry at `/home/jrun/.julia/registries/JuliaPro`\n",
      "\u001b[32m\u001b[1m  Updating\u001b[22m\u001b[39m git-repo `https://pkg.juliacomputing.com/registry/JuliaPro`\n",
      "\u001b[2K\u001b[?25h[1mFetching:\u001b[22m\u001b[39m [========================================>]  100.0 %.0 %\u001b[32m\u001b[1m Resolving\u001b[22m\u001b[39m package versions...\n",
      "\u001b[32m\u001b[1m  Updating\u001b[22m\u001b[39m `~/.julia/Project.toml`\n",
      "\u001b[90m [no changes]\u001b[39m\n",
      "\u001b[32m\u001b[1m  Updating\u001b[22m\u001b[39m `~/.julia/Manifest.toml`\n",
      "\u001b[90m [no changes]\u001b[39m\n"
     ]
    }
   ],
   "source": [
    "using Pkg;\n",
    "Pkg.add(\"SymPy\");\n",
    "using SymPy;\n",
    "using LinearAlgebra;"
   ]
  },
  {
   "cell_type": "code",
   "execution_count": 2,
   "metadata": {},
   "outputs": [
    {
     "name": "stdout",
     "output_type": "stream",
     "text": [
      "________________________________________________\n",
      "         Shape funtion of linear bar element\n",
      "________________________________________________\n",
      "          0                  L\n",
      "       N1 o==================o N2\n",
      "                    L             \n",
      "          <------------------>   \n",
      "Shape function at node 1:\n",
      "N1 = 1 - x/L\n",
      "Shape function at node 2:\n",
      "N2 = x/L"
     ]
    }
   ],
   "source": [
    "#=                        \n",
    "%==========================================================================\n",
    "%                         Linear bar element                              %\n",
    "%==========================================================================\n",
    "                           0                  L\n",
    "%                       N1 o==================o N2\n",
    "%                                     L      \n",
    "%                          <------------------>\n",
    "%--------------------------------------------------------------------------\n",
    "%       Assume that shape function: Ni = c + d*x is a linear function\n",
    "%--------------------------------------------------------------------------\n",
    "%       Then : - Based polynominal:    [p]' = [1 x]\n",
    "%              - Coefficient vector:    a   = [c d]\n",
    "%              - Coordinate matrix:    [Me] = [1 x1  = [1 0\n",
    "%                                              1 x2]    1 L];\n",
    "%--------------------------------------------------------------------------\n",
    "%                    Shape function is calculateted as follow:\n",
    "%--------------------------------------------------------------------------=#\n",
    "x, L = Sym(\"x\", \"L\")\n",
    "println(\"________________________________________________\")\n",
    "println(\"         Shape funtion of linear bar element\")\n",
    "println(\"________________________________________________\")\n",
    "println(\"          0                  L\")\n",
    "println(\"       N1 o==================o N2\")\n",
    "println(\"                    L             \")\n",
    "println(\"          <------------------>   \")\n",
    "#%----------------------------------------------------------------------\n",
    "    p  = [1 x];\n",
    "    Me = [1 0\n",
    "         1  L];\n",
    "    N  = p*inv(Me);\n",
    "\n",
    "println(\"Shape function at node 1:\")\n",
    "println(\"N1 = \",N[1],)\n",
    "println(\"Shape function at node 2:\")\n",
    "print(\"N2 = \",N[2])"
   ]
  },
  {
   "cell_type": "code",
   "execution_count": 7,
   "metadata": {},
   "outputs": [
    {
     "name": "stdout",
     "output_type": "stream",
     "text": [
      "____________________________________________________\n",
      " Shape function of isoparametric linear bar element \n",
      "____________________________________________________\n",
      "          -1                 1             \n",
      "       N1 o==================o N2\n",
      "                  L             \n",
      "          <------------------>   \n",
      "Shape function at node 1:\n",
      "N1 = -0.5*xi + 0.5\n",
      "Shape function at node 2:\n",
      "N2 = 0.5*xi + 0.5\n"
     ]
    }
   ],
   "source": [
    "#=                        \n",
    "%==========================================================================\n",
    "%            Isoparametric linear bar element                             %\n",
    "%==========================================================================\n",
    "\n",
    "%                       N1 o==========o========o N2\n",
    "%                          -1         0        1      \n",
    "%                          <------------------>\n",
    "%--------------------------------------------------------------------------\n",
    "%       Assume that shape function: Ni = c + d*ξ (linear function)\n",
    "%--------------------------------------------------------------------------\n",
    "%       Then,   - Based polynominal function: [p]' = [1 ξ]\n",
    "%               - Coefficient vector:          a   = [c d]\n",
    "%               - Coordinate matrix:         [Me]  = [1 ξ1]  = [1 -1\n",
    "%                                                     1 ξ2]     1  1];\n",
    "%--------------------------------------------------------------------------\n",
    "%                    then, shape function is calculated as\n",
    "%--------------------------------------------------------------------------=#\n",
    "\n",
    "println(\"____________________________________________________\")\n",
    "println(\" Shape function of isoparametric linear bar element \")\n",
    "println(\"____________________________________________________\")\n",
    "println(\"          -1                 1             \")\n",
    "println(\"       N1 o==================o N2\")\n",
    "println(\"                  L             \")\n",
    "println(\"          <------------------>   \")\n",
    "#%----------------------------------------------------------------------\n",
    "ξ = Sym(\"xi\")\n",
    "\n",
    "p = [1 ξ];\n",
    "Me = [1 -1\n",
    "      1  1];\n",
    "N = p*inv(Me);\n",
    "\n",
    "println(\"Shape function at node 1:\")\n",
    "println(\"N1 = \", N[1])\n",
    "println(\"Shape function at node 2:\")\n",
    "println(\"N2 = \", N[2])"
   ]
  },
  {
   "cell_type": "code",
   "execution_count": 12,
   "metadata": {},
   "outputs": [
    {
     "name": "stdout",
     "output_type": "stream",
     "text": [
      "________________________________________________\n",
      "  Shape function of isoparametric Quad4 element \n",
      "________________________________________________\n",
      "                 (-1,1)  ^η  (1,1)\n",
      "                 N4 o----|----o N3\n",
      "                    |    |    |\n",
      "                  --|----|----|--->ξ\n",
      "                    |    |    |\n",
      "                 N1 o----|----o N2\n",
      "                (-1,-1)   (1,-1)\n",
      "Shape function at node 1:\n",
      "N1 = 0.25*(eta - 1)*(xi - 1)\n",
      "Shape function at node 2:\n",
      "N2 = -0.25*(eta - 1)*(xi + 1)\n",
      "Shape function at node 3:\n",
      "N3 = 0.25*(eta + 1)*(xi + 1)\n",
      "Shape function at node 4:\n",
      "N4 = -0.25*(eta + 1)*(xi - 1)\n"
     ]
    }
   ],
   "source": [
    "#=%%%%%%%%%%%%%%%%%%%%%%%%%%%%%%%%%%%%%%%%%%%%%%%%%%%%%%%%%%%%%%%%%%%%%%%%%%%\n",
    "%==========================================================================\n",
    "%                    Isoparametric Quad4 element (直交4要素)\n",
    "%==========================================================================\n",
    "%                                  ^ η\n",
    "%                        (-1,1)    |   (1,1)\n",
    "%                          N4 o----|----o N3\n",
    "#                             |    |    |\n",
    "%                          ---|----|----|---> ξ\n",
    "%                             |    |    |\n",
    "%                          N1 o----|----o N2\n",
    "%                       (-1,-1)    |   (1,-1)\n",
    "%--------------------------------------------------------------------------\n",
    "%形状関数: Ni = N = c + d*ξ + e*η + f*ξ*η : \n",
    "%--------------------------------------------------------------------------\n",
    "%       Then, - Based polynominal function: [p]' = [1 ξ η ξ*η]\n",
    "%             - Coefficient vector    a   = [c d e f]\n",
    "%             - Coordinate matrix:   [Me]  = [1  ξ1  η1  ξ1*η1 = [1 -1 -1  1\n",
    "%                                             1  ξ2  η2  ξ2*η2    1  1 -1 -1\n",
    "%                                             1  ξ3  η3  ξ3*η3    1  1  1  1\n",
    "%                                             1  ξ4  η4  ξ4*η4]   1 -1  1 -1];\n",
    "%--------------------------------------------------------------------------\n",
    "%                    Then, shape function is calculated as follow\n",
    "%--------------------------------------------------------------------------\n",
    "=#\n",
    "ξ, η = Sym(\"xi\", \"eta\")\n",
    "\n",
    "p = [1 ξ η ξ*η]\n",
    "P = [1 -1 -1  1\n",
    "     1  1 -1 -1\n",
    "     1  1  1  1\n",
    "     1 -1  1 -1];\n",
    "N = p*inv(P);\n",
    "\n",
    "println(\"________________________________________________\")\n",
    "println(\"  Shape function of isoparametric Quad4 element \")\n",
    "println(\"________________________________________________\")\n",
    "println(\"                 (-1,1)  ^η  (1,1)\")     \n",
    "println(\"                 N4 o----|----o N3\")\n",
    "println(\"                    |    |    |\")\n",
    "println(\"                  --|----|----|--->ξ\")\n",
    "println(\"                    |    |    |\")\n",
    "println(\"                 N1 o----|----o N2\")\n",
    "println(\"                (-1,-1)   (1,-1)\") \n",
    "\n",
    "println(\"Shape function at node 1:\")\n",
    "println(\"N1 = \",factor(N[1]))\n",
    "\n",
    "println(\"Shape function at node 2:\")\n",
    "println(\"N2 = \",factor(N[2]))\n",
    "\n",
    "println(\"Shape function at node 3:\")\n",
    "println(\"N3 = \",factor(N[3]))\n",
    "\n",
    "println(\"Shape function at node 4:\")\n",
    "println(\"N4 = \",factor(N[4]))\n",
    "\n"
   ]
  },
  {
   "cell_type": "code",
   "execution_count": 15,
   "metadata": {},
   "outputs": [
    {
     "data": {
      "text/latex": [
       "\\begin{equation*}- 0.25 \\left(\\eta + 1\\right) \\left(\\xi - 1\\right)\\end{equation*}"
      ],
      "text/plain": [
       "-0.25*(eta + 1)*(xi - 1)"
      ]
     },
     "execution_count": 15,
     "metadata": {},
     "output_type": "execute_result"
    }
   ],
   "source": [
    "println(\"Shape function at node 4:\")\n",
    "println(\"N4 = \",factor(N[4]))\n",
    "factor(N[4])"
   ]
  },
  {
   "cell_type": "code",
   "execution_count": null,
   "metadata": {},
   "outputs": [],
   "source": []
  }
 ],
 "metadata": {
  "kernelspec": {
   "display_name": "Julia 1.0.0",
   "language": "julia",
   "name": "julia-1.0"
  },
  "language_info": {
   "file_extension": ".jl",
   "mimetype": "application/julia",
   "name": "julia",
   "version": "1.0.0"
  }
 },
 "nbformat": 4,
 "nbformat_minor": 2
}
